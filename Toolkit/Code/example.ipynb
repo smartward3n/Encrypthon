{
 "cells": [
  {
   "cell_type": "code",
   "execution_count": 14,
   "metadata": {},
   "outputs": [],
   "source": [
    "from modules import *\n",
    "import cv2 as cv"
   ]
  },
  {
   "cell_type": "code",
   "execution_count": 15,
   "metadata": {},
   "outputs": [],
   "source": [
    "plain_image = cv.imread(\"../Figs/Airplane.tiff\")\n",
    "\n",
    "c_1 = cv.imread(\"../Figs/enc_1.tiff\") # Encrypted image\n",
    "c_2 = cv.imread(\"../Figs/enc_2.tiff\") # Encrypted image with minor changes in the plain image for differential attack analysis"
   ]
  },
  {
   "cell_type": "code",
   "execution_count": 16,
   "metadata": {},
   "outputs": [
    {
     "name": "stdout",
     "output_type": "stream",
     "text": [
      "The value of global entropy for the plain image is 6.663908051897585 and for the encrypted image is 7.99914067595993.\n"
     ]
    }
   ],
   "source": [
    "ge_p = global_entropy(plain_image)\n",
    "ge_e = global_entropy(c_1)\n",
    "\n",
    "print(f\"The value of global entropy for the plain image is {ge_p} and for the encrypted image is {ge_e}.\")"
   ]
  },
  {
   "attachments": {},
   "cell_type": "markdown",
   "metadata": {},
   "source": [
    "The results that we presented in the article.\n",
    "\n",
    "<img src=\"../Figs/Fig_1.png\" alt=\"Fig_1\" />"
   ]
  },
  {
   "cell_type": "code",
   "execution_count": 17,
   "metadata": {},
   "outputs": [
    {
     "name": "stdout",
     "output_type": "stream",
     "text": [
      "The value of local entropy for the plain image is 6.508643576951705 and for the encrypted image is 7.991238330407692.\n"
     ]
    }
   ],
   "source": [
    "le_p = local_entropy(plain_image, (10, 10), 100)\n",
    "le_e = local_entropy(c_1, (10, 10), 100)\n",
    "\n",
    "print(f\"The value of local entropy for the plain image is {le_p} and for the encrypted image is {le_e}.\")"
   ]
  },
  {
   "attachments": {},
   "cell_type": "markdown",
   "metadata": {},
   "source": [
    "In our publication, we do not represent the local entropy. Nevertheless, it is crucial to take into account two significant considerations:\n",
    "\n",
    "1- Firstly, these values should closely align with the global entropy criteria.\n",
    "\n",
    "2- Secondly, it is important to note that patches are randomly selected each time, resulting in varying outcomes with each execution."
   ]
  },
  {
   "cell_type": "code",
   "execution_count": 18,
   "metadata": {},
   "outputs": [
    {
     "name": "stdout",
     "output_type": "stream",
     "text": [
      "The correlation between adjacent pixels in b is = 0.964365114761614 \n",
      "\n",
      "The correlation between adjacent pixels in g is = 0.9693217530997047 \n",
      "\n",
      "The correlation between adjacent pixels in r is = 0.9739186142813391 \n",
      "\n",
      "\n",
      "\n",
      "The correlation between adjacent pixels in b is = 0.05748046448842851 \n",
      "\n",
      "The correlation between adjacent pixels in g is = 0.05738346324624386 \n",
      "\n",
      "The correlation between adjacent pixels in r is = 0.0005986107708020647 \n",
      "\n"
     ]
    }
   ],
   "source": [
    "colors = [\"b\", \"g\", \"r\"]\n",
    "\n",
    "for i in range (0, len(colors)): # Plain image\n",
    "    \n",
    "    h_corr_p = H_correlation(plain_image[:,:, i], 1000)\n",
    "    \n",
    "    print(f\"The correlation between adjacent pixels in {colors[i]} is = {h_corr_p} \\n\")\n",
    "    \n",
    "    \n",
    "print(\"\\n\")\n",
    "\n",
    "    \n",
    "for i in range (0, len(colors)): # Encrypted image\n",
    "    \n",
    "    h_corr_e = H_correlation(c_1[:,:, i], 1000)\n",
    "    \n",
    "    print(f\"The correlation between adjacent pixels in {colors[i]} is = {h_corr_e} \\n\")\n",
    "    \n",
    "    \n",
    "\n",
    "\n"
   ]
  },
  {
   "cell_type": "code",
   "execution_count": 19,
   "metadata": {},
   "outputs": [
    {
     "name": "stdout",
     "output_type": "stream",
     "text": [
      "The NPCR value is 99.62132771809897 and the UACI value is 33.41061361474929.\n"
     ]
    }
   ],
   "source": [
    "N, U = NPCR_and_UACI (c_1, c_2, 1)\n",
    "\n",
    "print(f\"The NPCR value is {N} and the UACI value is {U}.\")"
   ]
  },
  {
   "attachments": {},
   "cell_type": "markdown",
   "metadata": {},
   "source": [
    "The calculated values compared to results in our published paper.\n",
    "\n",
    "<img src=\"../Figs/Fig_2.png\" alt=\"Alternative text\" />"
   ]
  }
 ],
 "metadata": {
  "kernelspec": {
   "display_name": "base",
   "language": "python",
   "name": "python3"
  },
  "language_info": {
   "codemirror_mode": {
    "name": "ipython",
    "version": 3
   },
   "file_extension": ".py",
   "mimetype": "text/x-python",
   "name": "python",
   "nbconvert_exporter": "python",
   "pygments_lexer": "ipython3",
   "version": "3.9.7"
  },
  "orig_nbformat": 4
 },
 "nbformat": 4,
 "nbformat_minor": 2
}
